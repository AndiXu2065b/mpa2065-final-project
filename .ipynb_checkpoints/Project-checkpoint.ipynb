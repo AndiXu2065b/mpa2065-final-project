{
 "cells": [
  {
   "cell_type": "code",
   "execution_count": 39,
   "id": "549bda37-d6bb-4076-ae5f-b52a080973dc",
   "metadata": {
    "tags": []
   },
   "outputs": [],
   "source": [
    "library(stringr)\n",
    "library(dplyr)\n",
    "library(lubridate)\n",
    "library(ggplot2)\n",
    "library(broom)"
   ]
  },
  {
   "cell_type": "code",
   "execution_count": 2,
   "id": "8d3858ca-7839-4a9d-87ab-08a2365f9718",
   "metadata": {},
   "outputs": [],
   "source": [
    "crime_df <- read.csv(\"bos_crime_incidents_2021.csv\")"
   ]
  },
  {
   "cell_type": "code",
   "execution_count": 3,
   "id": "3f81c252-b5f3-4c3e-8384-c179aec85039",
   "metadata": {
    "tags": []
   },
   "outputs": [
    {
     "data": {
      "text/html": [
       "<table class=\"dataframe\">\n",
       "<caption>A data.frame: 6 × 17</caption>\n",
       "<thead>\n",
       "\t<tr><th></th><th scope=col>INCIDENT_NUMBER</th><th scope=col>OFFENSE_CODE</th><th scope=col>OFFENSE_CODE_GROUP</th><th scope=col>OFFENSE_DESCRIPTION</th><th scope=col>DISTRICT</th><th scope=col>REPORTING_AREA</th><th scope=col>SHOOTING</th><th scope=col>OCCURRED_ON_DATE</th><th scope=col>YEAR</th><th scope=col>MONTH</th><th scope=col>DAY_OF_WEEK</th><th scope=col>HOUR</th><th scope=col>UCR_PART</th><th scope=col>STREET</th><th scope=col>Lat</th><th scope=col>Long</th><th scope=col>Location</th></tr>\n",
       "\t<tr><th></th><th scope=col>&lt;chr&gt;</th><th scope=col>&lt;int&gt;</th><th scope=col>&lt;lgl&gt;</th><th scope=col>&lt;chr&gt;</th><th scope=col>&lt;chr&gt;</th><th scope=col>&lt;int&gt;</th><th scope=col>&lt;int&gt;</th><th scope=col>&lt;chr&gt;</th><th scope=col>&lt;int&gt;</th><th scope=col>&lt;int&gt;</th><th scope=col>&lt;chr&gt;</th><th scope=col>&lt;int&gt;</th><th scope=col>&lt;lgl&gt;</th><th scope=col>&lt;chr&gt;</th><th scope=col>&lt;dbl&gt;</th><th scope=col>&lt;dbl&gt;</th><th scope=col>&lt;chr&gt;</th></tr>\n",
       "</thead>\n",
       "<tbody>\n",
       "\t<tr><th scope=row>1</th><td>PLTEST005</td><td> 520</td><td>NA</td><td>BURGLARY - RESIDENTIAL  </td><td>B2 </td><td>289</td><td>1</td><td>2021-10-13 00:00:00</td><td>2021</td><td>10</td><td>Wednesday</td><td> 0</td><td>NA</td><td>SCHROEDER PLZ  </td><td>42.33368</td><td>-71.09188</td><td>(42.33367921810846, -71.09187754618458)</td></tr>\n",
       "\t<tr><th scope=row>2</th><td>PLTEST003</td><td>3114</td><td>NA</td><td>INVESTIGATE PROPERTY    </td><td>B2 </td><td>289</td><td>0</td><td>2021-05-12 00:00:00</td><td>2021</td><td> 5</td><td>Wednesday</td><td> 0</td><td>NA</td><td>SCHROEDER PLZ  </td><td>42.33368</td><td>-71.09188</td><td>(42.33367921810846, -71.09187754618458)</td></tr>\n",
       "\t<tr><th scope=row>3</th><td>PLTEST002</td><td>3114</td><td>NA</td><td>INVESTIGATE PROPERTY    </td><td>B2 </td><td>289</td><td>0</td><td>2021-05-12 00:00:00</td><td>2021</td><td> 5</td><td>Wednesday</td><td> 0</td><td>NA</td><td>SCHROEDER PLZ  </td><td>42.33368</td><td>-71.09188</td><td>(42.33367921810846, -71.09187754618458)</td></tr>\n",
       "\t<tr><th scope=row>4</th><td>PLTEST001</td><td>3114</td><td>NA</td><td>INVESTIGATE PROPERTY    </td><td>B2 </td><td> NA</td><td>0</td><td>2021-03-29 00:00:00</td><td>2021</td><td> 3</td><td>Monday   </td><td> 0</td><td>NA</td><td>SCHROEDER PLAZA</td><td> 0.00000</td><td>  0.00000</td><td>(0, 0)                                 </td></tr>\n",
       "\t<tr><th scope=row>5</th><td>312030979</td><td>3201</td><td>NA</td><td>PROPERTY - LOST/ MISSING</td><td>E13</td><td>465</td><td>0</td><td>2021-03-22 00:00:00</td><td>2021</td><td> 3</td><td>Monday   </td><td> 0</td><td>NA</td><td>BLUE HILL AVE  </td><td>42.28483</td><td>-71.09137</td><td>(42.28482576580488, -71.09137368938802)</td></tr>\n",
       "\t<tr><th scope=row>6</th><td>292152228</td><td>3301</td><td>NA</td><td>VERBAL DISPUTE          </td><td>C11</td><td>347</td><td>0</td><td>2021-07-28 20:45:00</td><td>2021</td><td> 7</td><td>Wednesday</td><td>20</td><td>NA</td><td>LYON ST        </td><td>42.30638</td><td>-71.06021</td><td>(42.30638322801941, -71.06021217719662)</td></tr>\n",
       "</tbody>\n",
       "</table>\n"
      ],
      "text/latex": [
       "A data.frame: 6 × 17\n",
       "\\begin{tabular}{r|lllllllllllllllll}\n",
       "  & INCIDENT\\_NUMBER & OFFENSE\\_CODE & OFFENSE\\_CODE\\_GROUP & OFFENSE\\_DESCRIPTION & DISTRICT & REPORTING\\_AREA & SHOOTING & OCCURRED\\_ON\\_DATE & YEAR & MONTH & DAY\\_OF\\_WEEK & HOUR & UCR\\_PART & STREET & Lat & Long & Location\\\\\n",
       "  & <chr> & <int> & <lgl> & <chr> & <chr> & <int> & <int> & <chr> & <int> & <int> & <chr> & <int> & <lgl> & <chr> & <dbl> & <dbl> & <chr>\\\\\n",
       "\\hline\n",
       "\t1 & PLTEST005 &  520 & NA & BURGLARY - RESIDENTIAL   & B2  & 289 & 1 & 2021-10-13 00:00:00 & 2021 & 10 & Wednesday &  0 & NA & SCHROEDER PLZ   & 42.33368 & -71.09188 & (42.33367921810846, -71.09187754618458)\\\\\n",
       "\t2 & PLTEST003 & 3114 & NA & INVESTIGATE PROPERTY     & B2  & 289 & 0 & 2021-05-12 00:00:00 & 2021 &  5 & Wednesday &  0 & NA & SCHROEDER PLZ   & 42.33368 & -71.09188 & (42.33367921810846, -71.09187754618458)\\\\\n",
       "\t3 & PLTEST002 & 3114 & NA & INVESTIGATE PROPERTY     & B2  & 289 & 0 & 2021-05-12 00:00:00 & 2021 &  5 & Wednesday &  0 & NA & SCHROEDER PLZ   & 42.33368 & -71.09188 & (42.33367921810846, -71.09187754618458)\\\\\n",
       "\t4 & PLTEST001 & 3114 & NA & INVESTIGATE PROPERTY     & B2  &  NA & 0 & 2021-03-29 00:00:00 & 2021 &  3 & Monday    &  0 & NA & SCHROEDER PLAZA &  0.00000 &   0.00000 & (0, 0)                                 \\\\\n",
       "\t5 & 312030979 & 3201 & NA & PROPERTY - LOST/ MISSING & E13 & 465 & 0 & 2021-03-22 00:00:00 & 2021 &  3 & Monday    &  0 & NA & BLUE HILL AVE   & 42.28483 & -71.09137 & (42.28482576580488, -71.09137368938802)\\\\\n",
       "\t6 & 292152228 & 3301 & NA & VERBAL DISPUTE           & C11 & 347 & 0 & 2021-07-28 20:45:00 & 2021 &  7 & Wednesday & 20 & NA & LYON ST         & 42.30638 & -71.06021 & (42.30638322801941, -71.06021217719662)\\\\\n",
       "\\end{tabular}\n"
      ],
      "text/markdown": [
       "\n",
       "A data.frame: 6 × 17\n",
       "\n",
       "| <!--/--> | INCIDENT_NUMBER &lt;chr&gt; | OFFENSE_CODE &lt;int&gt; | OFFENSE_CODE_GROUP &lt;lgl&gt; | OFFENSE_DESCRIPTION &lt;chr&gt; | DISTRICT &lt;chr&gt; | REPORTING_AREA &lt;int&gt; | SHOOTING &lt;int&gt; | OCCURRED_ON_DATE &lt;chr&gt; | YEAR &lt;int&gt; | MONTH &lt;int&gt; | DAY_OF_WEEK &lt;chr&gt; | HOUR &lt;int&gt; | UCR_PART &lt;lgl&gt; | STREET &lt;chr&gt; | Lat &lt;dbl&gt; | Long &lt;dbl&gt; | Location &lt;chr&gt; |\n",
       "|---|---|---|---|---|---|---|---|---|---|---|---|---|---|---|---|---|---|\n",
       "| 1 | PLTEST005 |  520 | NA | BURGLARY - RESIDENTIAL   | B2  | 289 | 1 | 2021-10-13 00:00:00 | 2021 | 10 | Wednesday |  0 | NA | SCHROEDER PLZ   | 42.33368 | -71.09188 | (42.33367921810846, -71.09187754618458) |\n",
       "| 2 | PLTEST003 | 3114 | NA | INVESTIGATE PROPERTY     | B2  | 289 | 0 | 2021-05-12 00:00:00 | 2021 |  5 | Wednesday |  0 | NA | SCHROEDER PLZ   | 42.33368 | -71.09188 | (42.33367921810846, -71.09187754618458) |\n",
       "| 3 | PLTEST002 | 3114 | NA | INVESTIGATE PROPERTY     | B2  | 289 | 0 | 2021-05-12 00:00:00 | 2021 |  5 | Wednesday |  0 | NA | SCHROEDER PLZ   | 42.33368 | -71.09188 | (42.33367921810846, -71.09187754618458) |\n",
       "| 4 | PLTEST001 | 3114 | NA | INVESTIGATE PROPERTY     | B2  |  NA | 0 | 2021-03-29 00:00:00 | 2021 |  3 | Monday    |  0 | NA | SCHROEDER PLAZA |  0.00000 |   0.00000 | (0, 0)                                  |\n",
       "| 5 | 312030979 | 3201 | NA | PROPERTY - LOST/ MISSING | E13 | 465 | 0 | 2021-03-22 00:00:00 | 2021 |  3 | Monday    |  0 | NA | BLUE HILL AVE   | 42.28483 | -71.09137 | (42.28482576580488, -71.09137368938802) |\n",
       "| 6 | 292152228 | 3301 | NA | VERBAL DISPUTE           | C11 | 347 | 0 | 2021-07-28 20:45:00 | 2021 |  7 | Wednesday | 20 | NA | LYON ST         | 42.30638 | -71.06021 | (42.30638322801941, -71.06021217719662) |\n",
       "\n"
      ],
      "text/plain": [
       "  INCIDENT_NUMBER OFFENSE_CODE OFFENSE_CODE_GROUP OFFENSE_DESCRIPTION     \n",
       "1 PLTEST005        520         NA                 BURGLARY - RESIDENTIAL  \n",
       "2 PLTEST003       3114         NA                 INVESTIGATE PROPERTY    \n",
       "3 PLTEST002       3114         NA                 INVESTIGATE PROPERTY    \n",
       "4 PLTEST001       3114         NA                 INVESTIGATE PROPERTY    \n",
       "5 312030979       3201         NA                 PROPERTY - LOST/ MISSING\n",
       "6 292152228       3301         NA                 VERBAL DISPUTE          \n",
       "  DISTRICT REPORTING_AREA SHOOTING OCCURRED_ON_DATE    YEAR MONTH DAY_OF_WEEK\n",
       "1 B2       289            1        2021-10-13 00:00:00 2021 10    Wednesday  \n",
       "2 B2       289            0        2021-05-12 00:00:00 2021  5    Wednesday  \n",
       "3 B2       289            0        2021-05-12 00:00:00 2021  5    Wednesday  \n",
       "4 B2        NA            0        2021-03-29 00:00:00 2021  3    Monday     \n",
       "5 E13      465            0        2021-03-22 00:00:00 2021  3    Monday     \n",
       "6 C11      347            0        2021-07-28 20:45:00 2021  7    Wednesday  \n",
       "  HOUR UCR_PART STREET          Lat      Long     \n",
       "1  0   NA       SCHROEDER PLZ   42.33368 -71.09188\n",
       "2  0   NA       SCHROEDER PLZ   42.33368 -71.09188\n",
       "3  0   NA       SCHROEDER PLZ   42.33368 -71.09188\n",
       "4  0   NA       SCHROEDER PLAZA  0.00000   0.00000\n",
       "5  0   NA       BLUE HILL AVE   42.28483 -71.09137\n",
       "6 20   NA       LYON ST         42.30638 -71.06021\n",
       "  Location                               \n",
       "1 (42.33367921810846, -71.09187754618458)\n",
       "2 (42.33367921810846, -71.09187754618458)\n",
       "3 (42.33367921810846, -71.09187754618458)\n",
       "4 (0, 0)                                 \n",
       "5 (42.28482576580488, -71.09137368938802)\n",
       "6 (42.30638322801941, -71.06021217719662)"
      ]
     },
     "metadata": {},
     "output_type": "display_data"
    }
   ],
   "source": [
    "head(crime_df)"
   ]
  },
  {
   "cell_type": "code",
   "execution_count": 6,
   "id": "a1f21f46-dc3d-483b-ac9b-c0a6878e83f2",
   "metadata": {
    "tags": []
   },
   "outputs": [
    {
     "data": {
      "text/html": [
       "<table class=\"dataframe\">\n",
       "<caption>A data.frame: 6 × 3</caption>\n",
       "<thead>\n",
       "\t<tr><th></th><th scope=col>INCIDENT_NUMBER</th><th scope=col>OFFENSE_DESCRIPTION</th><th scope=col>OCCURRED_ON_DATE</th></tr>\n",
       "\t<tr><th></th><th scope=col>&lt;chr&gt;</th><th scope=col>&lt;chr&gt;</th><th scope=col>&lt;chr&gt;</th></tr>\n",
       "</thead>\n",
       "<tbody>\n",
       "\t<tr><th scope=row>1</th><td>PLTEST005</td><td>BURGLARY - RESIDENTIAL               </td><td>2021-10-13 00:00:00</td></tr>\n",
       "\t<tr><th scope=row>2</th><td>222000453</td><td>LARCENY THEFT FROM BUILDING          </td><td>2021-12-30 12:30:00</td></tr>\n",
       "\t<tr><th scope=row>3</th><td>222000583</td><td>LARCENY THEFT FROM MV - NON-ACCESSORY</td><td>2021-12-28 12:00:00</td></tr>\n",
       "\t<tr><th scope=row>4</th><td>222000575</td><td>LARCENY THEFT FROM BUILDING          </td><td>2021-12-20 00:00:00</td></tr>\n",
       "\t<tr><th scope=row>5</th><td>222000557</td><td>LARCENY THEFT FROM BUILDING          </td><td>2021-12-28 00:00:00</td></tr>\n",
       "\t<tr><th scope=row>6</th><td>222000513</td><td>LARCENY THEFT FROM BUILDING          </td><td>2021-12-31 14:30:00</td></tr>\n",
       "</tbody>\n",
       "</table>\n"
      ],
      "text/latex": [
       "A data.frame: 6 × 3\n",
       "\\begin{tabular}{r|lll}\n",
       "  & INCIDENT\\_NUMBER & OFFENSE\\_DESCRIPTION & OCCURRED\\_ON\\_DATE\\\\\n",
       "  & <chr> & <chr> & <chr>\\\\\n",
       "\\hline\n",
       "\t1 & PLTEST005 & BURGLARY - RESIDENTIAL                & 2021-10-13 00:00:00\\\\\n",
       "\t2 & 222000453 & LARCENY THEFT FROM BUILDING           & 2021-12-30 12:30:00\\\\\n",
       "\t3 & 222000583 & LARCENY THEFT FROM MV - NON-ACCESSORY & 2021-12-28 12:00:00\\\\\n",
       "\t4 & 222000575 & LARCENY THEFT FROM BUILDING           & 2021-12-20 00:00:00\\\\\n",
       "\t5 & 222000557 & LARCENY THEFT FROM BUILDING           & 2021-12-28 00:00:00\\\\\n",
       "\t6 & 222000513 & LARCENY THEFT FROM BUILDING           & 2021-12-31 14:30:00\\\\\n",
       "\\end{tabular}\n"
      ],
      "text/markdown": [
       "\n",
       "A data.frame: 6 × 3\n",
       "\n",
       "| <!--/--> | INCIDENT_NUMBER &lt;chr&gt; | OFFENSE_DESCRIPTION &lt;chr&gt; | OCCURRED_ON_DATE &lt;chr&gt; |\n",
       "|---|---|---|---|\n",
       "| 1 | PLTEST005 | BURGLARY - RESIDENTIAL                | 2021-10-13 00:00:00 |\n",
       "| 2 | 222000453 | LARCENY THEFT FROM BUILDING           | 2021-12-30 12:30:00 |\n",
       "| 3 | 222000583 | LARCENY THEFT FROM MV - NON-ACCESSORY | 2021-12-28 12:00:00 |\n",
       "| 4 | 222000575 | LARCENY THEFT FROM BUILDING           | 2021-12-20 00:00:00 |\n",
       "| 5 | 222000557 | LARCENY THEFT FROM BUILDING           | 2021-12-28 00:00:00 |\n",
       "| 6 | 222000513 | LARCENY THEFT FROM BUILDING           | 2021-12-31 14:30:00 |\n",
       "\n"
      ],
      "text/plain": [
       "  INCIDENT_NUMBER OFFENSE_DESCRIPTION                   OCCURRED_ON_DATE   \n",
       "1 PLTEST005       BURGLARY - RESIDENTIAL                2021-10-13 00:00:00\n",
       "2 222000453       LARCENY THEFT FROM BUILDING           2021-12-30 12:30:00\n",
       "3 222000583       LARCENY THEFT FROM MV - NON-ACCESSORY 2021-12-28 12:00:00\n",
       "4 222000575       LARCENY THEFT FROM BUILDING           2021-12-20 00:00:00\n",
       "5 222000557       LARCENY THEFT FROM BUILDING           2021-12-28 00:00:00\n",
       "6 222000513       LARCENY THEFT FROM BUILDING           2021-12-31 14:30:00"
      ]
     },
     "metadata": {},
     "output_type": "display_data"
    }
   ],
   "source": [
    "# keeps eco offense\n",
    "crime_df1 <- crime_df %>%\n",
    "    filter(OFFENSE_DESCRIPTION == \"AUTO THEFT\" | \n",
    "           OFFENSE_DESCRIPTION == \"AUTO THEFT - LEASED/RENTED VEHICLE\" | \n",
    "           OFFENSE_DESCRIPTION == \"AUTO THEFT - MOTORCYCLE / SCOOTER\" | \n",
    "           OFFENSE_DESCRIPTION == \"BURGLARY - COMMERICAL\" | \n",
    "           OFFENSE_DESCRIPTION == \"BURGLARY - RESIDENTIAL\" | \n",
    "           OFFENSE_DESCRIPTION == \"LARCENY ALL OTHERS\" | \n",
    "           OFFENSE_DESCRIPTION == \"LARCENY PICK-POCKET\" | \n",
    "           OFFENSE_DESCRIPTION == \"LARCENY PURSE SNATCH - NO FORCE\" | \n",
    "           OFFENSE_DESCRIPTION == \"LARCENY SHOPLIFTING\" | \n",
    "           OFFENSE_DESCRIPTION == \"LARCENY THEFT FROM BUILDING\" | \n",
    "           OFFENSE_DESCRIPTION == \"LARCENY THEFT FROM COIN-OP MACHINE\" | \n",
    "           OFFENSE_DESCRIPTION == \"LARCENY THEFT FROM MV - NON-ACCESSORY\" | \n",
    "           OFFENSE_DESCRIPTION == \"LARCENY THEFT OF BICYCLE\" | \n",
    "           OFFENSE_DESCRIPTION == \"LARCENY THEFT OF MV PARTS & ACCESSORIES\" | \n",
    "           OFFENSE_DESCRIPTION == \"ROBBERY\") %>%\n",
    "    select (INCIDENT_NUMBER, OFFENSE_DESCRIPTION, OCCURRED_ON_DATE)\n",
    "head(crime_df1)"
   ]
  },
  {
   "cell_type": "code",
   "execution_count": 24,
   "id": "f7e2a80b-f3c3-4fae-856d-92626d5ffd71",
   "metadata": {
    "tags": []
   },
   "outputs": [
    {
     "data": {
      "text/html": [
       "<table class=\"dataframe\">\n",
       "<caption>A data.frame: 6 × 4</caption>\n",
       "<thead>\n",
       "\t<tr><th></th><th scope=col>INCIDENT_NUMBER</th><th scope=col>OFFENSE_DESCRIPTION</th><th scope=col>OCCURRED_ON_DATE</th><th scope=col>IS_HOLIDAY</th></tr>\n",
       "\t<tr><th></th><th scope=col>&lt;chr&gt;</th><th scope=col>&lt;chr&gt;</th><th scope=col>&lt;date&gt;</th><th scope=col>&lt;lgl&gt;</th></tr>\n",
       "</thead>\n",
       "<tbody>\n",
       "\t<tr><th scope=row>1</th><td>PLTEST005</td><td>BURGLARY - RESIDENTIAL               </td><td>2021-10-13</td><td>FALSE</td></tr>\n",
       "\t<tr><th scope=row>2</th><td>222000453</td><td>LARCENY THEFT FROM BUILDING          </td><td>2021-12-30</td><td>FALSE</td></tr>\n",
       "\t<tr><th scope=row>3</th><td>222000583</td><td>LARCENY THEFT FROM MV - NON-ACCESSORY</td><td>2021-12-28</td><td>FALSE</td></tr>\n",
       "\t<tr><th scope=row>4</th><td>222000575</td><td>LARCENY THEFT FROM BUILDING          </td><td>2021-12-20</td><td>FALSE</td></tr>\n",
       "\t<tr><th scope=row>5</th><td>222000557</td><td>LARCENY THEFT FROM BUILDING          </td><td>2021-12-28</td><td>FALSE</td></tr>\n",
       "\t<tr><th scope=row>6</th><td>222000513</td><td>LARCENY THEFT FROM BUILDING          </td><td>2021-12-31</td><td>FALSE</td></tr>\n",
       "</tbody>\n",
       "</table>\n"
      ],
      "text/latex": [
       "A data.frame: 6 × 4\n",
       "\\begin{tabular}{r|llll}\n",
       "  & INCIDENT\\_NUMBER & OFFENSE\\_DESCRIPTION & OCCURRED\\_ON\\_DATE & IS\\_HOLIDAY\\\\\n",
       "  & <chr> & <chr> & <date> & <lgl>\\\\\n",
       "\\hline\n",
       "\t1 & PLTEST005 & BURGLARY - RESIDENTIAL                & 2021-10-13 & FALSE\\\\\n",
       "\t2 & 222000453 & LARCENY THEFT FROM BUILDING           & 2021-12-30 & FALSE\\\\\n",
       "\t3 & 222000583 & LARCENY THEFT FROM MV - NON-ACCESSORY & 2021-12-28 & FALSE\\\\\n",
       "\t4 & 222000575 & LARCENY THEFT FROM BUILDING           & 2021-12-20 & FALSE\\\\\n",
       "\t5 & 222000557 & LARCENY THEFT FROM BUILDING           & 2021-12-28 & FALSE\\\\\n",
       "\t6 & 222000513 & LARCENY THEFT FROM BUILDING           & 2021-12-31 & FALSE\\\\\n",
       "\\end{tabular}\n"
      ],
      "text/markdown": [
       "\n",
       "A data.frame: 6 × 4\n",
       "\n",
       "| <!--/--> | INCIDENT_NUMBER &lt;chr&gt; | OFFENSE_DESCRIPTION &lt;chr&gt; | OCCURRED_ON_DATE &lt;date&gt; | IS_HOLIDAY &lt;lgl&gt; |\n",
       "|---|---|---|---|---|\n",
       "| 1 | PLTEST005 | BURGLARY - RESIDENTIAL                | 2021-10-13 | FALSE |\n",
       "| 2 | 222000453 | LARCENY THEFT FROM BUILDING           | 2021-12-30 | FALSE |\n",
       "| 3 | 222000583 | LARCENY THEFT FROM MV - NON-ACCESSORY | 2021-12-28 | FALSE |\n",
       "| 4 | 222000575 | LARCENY THEFT FROM BUILDING           | 2021-12-20 | FALSE |\n",
       "| 5 | 222000557 | LARCENY THEFT FROM BUILDING           | 2021-12-28 | FALSE |\n",
       "| 6 | 222000513 | LARCENY THEFT FROM BUILDING           | 2021-12-31 | FALSE |\n",
       "\n"
      ],
      "text/plain": [
       "  INCIDENT_NUMBER OFFENSE_DESCRIPTION                   OCCURRED_ON_DATE\n",
       "1 PLTEST005       BURGLARY - RESIDENTIAL                2021-10-13      \n",
       "2 222000453       LARCENY THEFT FROM BUILDING           2021-12-30      \n",
       "3 222000583       LARCENY THEFT FROM MV - NON-ACCESSORY 2021-12-28      \n",
       "4 222000575       LARCENY THEFT FROM BUILDING           2021-12-20      \n",
       "5 222000557       LARCENY THEFT FROM BUILDING           2021-12-28      \n",
       "6 222000513       LARCENY THEFT FROM BUILDING           2021-12-31      \n",
       "  IS_HOLIDAY\n",
       "1 FALSE     \n",
       "2 FALSE     \n",
       "3 FALSE     \n",
       "4 FALSE     \n",
       "5 FALSE     \n",
       "6 FALSE     "
      ]
     },
     "metadata": {},
     "output_type": "display_data"
    }
   ],
   "source": [
    "# turn datetime into date\n",
    "crime_df1$OCCURRED_ON_DATE <- as_date(crime_df1$OCCURRED_ON_DATE)\n",
    "head(crime_df1)"
   ]
  },
  {
   "cell_type": "code",
   "execution_count": 8,
   "id": "a69f2d63-8068-4416-8d59-ada2f6247218",
   "metadata": {},
   "outputs": [],
   "source": [
    "# Date of Major Public Holidays in 2021\n",
    "# New Year’s Day 2021-01-01\n",
    "# Martin Luther King’s Birthday 2021-01-18\n",
    "# Washington’s Birthday 2021-02-15\n",
    "# Memorial Day 2021-05-31\n",
    "# Juneteenth National Independence Day 2021-06-19\n",
    "# Independence Day 2021-07-04\n",
    "# Labor Day 2021-09-06\n",
    "# Columbus Day 2021-10-11\n",
    "# Veterans’ Day 2021-11-11\n",
    "# Thanksgiving Day 2021-11-25\n",
    "# Christmas Day 2021-12-25"
   ]
  },
  {
   "cell_type": "code",
   "execution_count": 9,
   "id": "40b18693-a3b1-4c7c-ad40-0dda72fb71db",
   "metadata": {},
   "outputs": [],
   "source": [
    "# set time interval for every holiday\n",
    "time1 <- as_datetime(\"2021-01-01 00:00:00\")\n",
    "time2 <- as_datetime(\"2021-01-01 23:59:59\")\n",
    "dt_intr1 <- interval(time1, time2)\n",
    "\n",
    "time3 <- as_datetime(\"2021-01-18 00:00:00\")\n",
    "time4 <- as_datetime(\"2021-01-18 23:59:59\")\n",
    "dt_intr2 <- interval(time3, time4)\n",
    "\n",
    "time5 <- as_datetime(\"2021-02-15 00:00:00\")\n",
    "time6 <- as_datetime(\"2021-02-15 23:59:59\")\n",
    "dt_intr3 <- interval(time5, time6)\n",
    "\n",
    "time7 <- as_datetime(\"2021-05-31 00:00:00\")\n",
    "time8 <- as_datetime(\"2021-05-31 23:59:59\")\n",
    "dt_intr4 <- interval(time7, time8)\n",
    "\n",
    "time9 <- as_datetime(\"2021-06-19 00:00:00\")\n",
    "time10 <- as_datetime(\"2021-06-19 23:59:59\")\n",
    "dt_intr5 <- interval(time9, time10)\n",
    "\n",
    "time11 <- as_datetime(\"2021-07-04 00:00:00\")\n",
    "time12 <- as_datetime(\"2021-07-04 23:59:59\")\n",
    "dt_intr6 <- interval(time11, time12)\n",
    "\n",
    "time13 <- as_datetime(\"2021-09-06 00:00:00\")\n",
    "time14 <- as_datetime(\"2021-09-06 23:59:59\")\n",
    "dt_intr7 <- interval(time13, time14)\n",
    "\n",
    "time15 <- as_datetime(\"2021-10-11 00:00:00\")\n",
    "time16 <- as_datetime(\"2021-10-11 23:59:59\")\n",
    "dt_intr8 <- interval(time15, time16)\n",
    "\n",
    "time17 <- as_datetime(\"2021-11-11 00:00:00\")\n",
    "time18 <- as_datetime(\"2021-11-11 23:59:59\")\n",
    "dt_intr9 <- interval(time17, time18)\n",
    "\n",
    "time19 <- as_datetime(\"2021-11-25 00:00:00\")\n",
    "time20 <- as_datetime(\"2021-11-25 23:59:59\")\n",
    "dt_intr10 <- interval(time19, time20)\n",
    "\n",
    "time21 <- as_datetime(\"2021-12-25 00:00:00\")\n",
    "time22 <- as_datetime(\"2021-12-25 23:59:59\")\n",
    "dt_intr11 <- interval(time21, time22)"
   ]
  },
  {
   "cell_type": "code",
   "execution_count": 10,
   "id": "32fd3e93-de10-4cc0-922b-e4a8d55a5851",
   "metadata": {},
   "outputs": [
    {
     "name": "stdout",
     "output_type": "stream",
     "text": [
      " [1] 2021-01-01 UTC--2021-01-01 23:59:59 UTC\n",
      " [2] 2021-01-18 UTC--2021-01-18 23:59:59 UTC\n",
      " [3] 2021-02-15 UTC--2021-02-15 23:59:59 UTC\n",
      " [4] 2021-05-31 UTC--2021-05-31 23:59:59 UTC\n",
      " [5] 2021-06-19 UTC--2021-06-19 23:59:59 UTC\n",
      " [6] 2021-07-04 UTC--2021-07-04 23:59:59 UTC\n",
      " [7] 2021-09-06 UTC--2021-09-06 23:59:59 UTC\n",
      " [8] 2021-10-11 UTC--2021-10-11 23:59:59 UTC\n",
      " [9] 2021-11-11 UTC--2021-11-11 23:59:59 UTC\n",
      "[10] 2021-11-25 UTC--2021-11-25 23:59:59 UTC\n",
      "[11] 2021-12-25 UTC--2021-12-25 23:59:59 UTC\n"
     ]
    }
   ],
   "source": [
    "holiday_intr <- c(dt_intr1, dt_intr2, dt_intr3, dt_intr4, dt_intr5, dt_intr6, \n",
    "                  dt_intr7, dt_intr8, dt_intr9, dt_intr10, dt_intr11)\n",
    "print(holiday_intr)"
   ]
  },
  {
   "cell_type": "code",
   "execution_count": 11,
   "id": "b83fe1b5-4692-4fd5-9e9e-efff4a07e8e8",
   "metadata": {},
   "outputs": [],
   "source": [
    "is_holiday_period <- function(date, holiday_intr) {\n",
    "    n_incidents <- length(date)\n",
    "    is_holiday <- rep(FALSE, n_incidents)\n",
    "\n",
    "    for (i in 1:n_incidents) {\n",
    "        \n",
    "        for (j in 1:length(holiday_intr)) {\n",
    "            \n",
    "            if (date[i] %within% holiday_intr[j]) {\n",
    "            \n",
    "            is_holiday[i] <- TRUE\n",
    "            \n",
    "            }\n",
    "        }\n",
    "    }\n",
    "    return(is_holiday)\n",
    "}"
   ]
  },
  {
   "cell_type": "code",
   "execution_count": 25,
   "id": "1ae1f8b7-3fe1-4fef-a955-2e3fd0d1b462",
   "metadata": {},
   "outputs": [
    {
     "data": {
      "text/html": [
       "TRUE"
      ],
      "text/latex": [
       "TRUE"
      ],
      "text/markdown": [
       "TRUE"
      ],
      "text/plain": [
       "[1] TRUE"
      ]
     },
     "metadata": {},
     "output_type": "display_data"
    }
   ],
   "source": [
    "is_holiday_period(as_datetime(\"2021-11-11\"), holiday_intr)"
   ]
  },
  {
   "cell_type": "code",
   "execution_count": 26,
   "id": "e96bda63-612d-48e6-a0c5-6138d8a517d4",
   "metadata": {},
   "outputs": [],
   "source": [
    "# need around 2 minutes to run nesting if\n",
    "crime_df1$IS_HOLIDAY <- is_holiday_period(as_date(crime_df1$OCCURRED_ON_DATE), holiday_intr)"
   ]
  },
  {
   "cell_type": "code",
   "execution_count": 27,
   "id": "74c541b7-966e-4ccd-8833-c2944b8503f6",
   "metadata": {},
   "outputs": [
    {
     "data": {
      "text/html": [
       "<table class=\"dataframe\">\n",
       "<caption>A data.frame: 6 × 4</caption>\n",
       "<thead>\n",
       "\t<tr><th></th><th scope=col>INCIDENT_NUMBER</th><th scope=col>OFFENSE_DESCRIPTION</th><th scope=col>OCCURRED_ON_DATE</th><th scope=col>IS_HOLIDAY</th></tr>\n",
       "\t<tr><th></th><th scope=col>&lt;chr&gt;</th><th scope=col>&lt;chr&gt;</th><th scope=col>&lt;date&gt;</th><th scope=col>&lt;lgl&gt;</th></tr>\n",
       "</thead>\n",
       "<tbody>\n",
       "\t<tr><th scope=row>1</th><td>PLTEST005</td><td>BURGLARY - RESIDENTIAL               </td><td>2021-10-13</td><td>FALSE</td></tr>\n",
       "\t<tr><th scope=row>2</th><td>222000453</td><td>LARCENY THEFT FROM BUILDING          </td><td>2021-12-30</td><td>FALSE</td></tr>\n",
       "\t<tr><th scope=row>3</th><td>222000583</td><td>LARCENY THEFT FROM MV - NON-ACCESSORY</td><td>2021-12-28</td><td>FALSE</td></tr>\n",
       "\t<tr><th scope=row>4</th><td>222000575</td><td>LARCENY THEFT FROM BUILDING          </td><td>2021-12-20</td><td>FALSE</td></tr>\n",
       "\t<tr><th scope=row>5</th><td>222000557</td><td>LARCENY THEFT FROM BUILDING          </td><td>2021-12-28</td><td>FALSE</td></tr>\n",
       "\t<tr><th scope=row>6</th><td>222000513</td><td>LARCENY THEFT FROM BUILDING          </td><td>2021-12-31</td><td>FALSE</td></tr>\n",
       "</tbody>\n",
       "</table>\n"
      ],
      "text/latex": [
       "A data.frame: 6 × 4\n",
       "\\begin{tabular}{r|llll}\n",
       "  & INCIDENT\\_NUMBER & OFFENSE\\_DESCRIPTION & OCCURRED\\_ON\\_DATE & IS\\_HOLIDAY\\\\\n",
       "  & <chr> & <chr> & <date> & <lgl>\\\\\n",
       "\\hline\n",
       "\t1 & PLTEST005 & BURGLARY - RESIDENTIAL                & 2021-10-13 & FALSE\\\\\n",
       "\t2 & 222000453 & LARCENY THEFT FROM BUILDING           & 2021-12-30 & FALSE\\\\\n",
       "\t3 & 222000583 & LARCENY THEFT FROM MV - NON-ACCESSORY & 2021-12-28 & FALSE\\\\\n",
       "\t4 & 222000575 & LARCENY THEFT FROM BUILDING           & 2021-12-20 & FALSE\\\\\n",
       "\t5 & 222000557 & LARCENY THEFT FROM BUILDING           & 2021-12-28 & FALSE\\\\\n",
       "\t6 & 222000513 & LARCENY THEFT FROM BUILDING           & 2021-12-31 & FALSE\\\\\n",
       "\\end{tabular}\n"
      ],
      "text/markdown": [
       "\n",
       "A data.frame: 6 × 4\n",
       "\n",
       "| <!--/--> | INCIDENT_NUMBER &lt;chr&gt; | OFFENSE_DESCRIPTION &lt;chr&gt; | OCCURRED_ON_DATE &lt;date&gt; | IS_HOLIDAY &lt;lgl&gt; |\n",
       "|---|---|---|---|---|\n",
       "| 1 | PLTEST005 | BURGLARY - RESIDENTIAL                | 2021-10-13 | FALSE |\n",
       "| 2 | 222000453 | LARCENY THEFT FROM BUILDING           | 2021-12-30 | FALSE |\n",
       "| 3 | 222000583 | LARCENY THEFT FROM MV - NON-ACCESSORY | 2021-12-28 | FALSE |\n",
       "| 4 | 222000575 | LARCENY THEFT FROM BUILDING           | 2021-12-20 | FALSE |\n",
       "| 5 | 222000557 | LARCENY THEFT FROM BUILDING           | 2021-12-28 | FALSE |\n",
       "| 6 | 222000513 | LARCENY THEFT FROM BUILDING           | 2021-12-31 | FALSE |\n",
       "\n"
      ],
      "text/plain": [
       "  INCIDENT_NUMBER OFFENSE_DESCRIPTION                   OCCURRED_ON_DATE\n",
       "1 PLTEST005       BURGLARY - RESIDENTIAL                2021-10-13      \n",
       "2 222000453       LARCENY THEFT FROM BUILDING           2021-12-30      \n",
       "3 222000583       LARCENY THEFT FROM MV - NON-ACCESSORY 2021-12-28      \n",
       "4 222000575       LARCENY THEFT FROM BUILDING           2021-12-20      \n",
       "5 222000557       LARCENY THEFT FROM BUILDING           2021-12-28      \n",
       "6 222000513       LARCENY THEFT FROM BUILDING           2021-12-31      \n",
       "  IS_HOLIDAY\n",
       "1 FALSE     \n",
       "2 FALSE     \n",
       "3 FALSE     \n",
       "4 FALSE     \n",
       "5 FALSE     \n",
       "6 FALSE     "
      ]
     },
     "metadata": {},
     "output_type": "display_data"
    }
   ],
   "source": [
    "head(crime_df1)"
   ]
  },
  {
   "cell_type": "code",
   "execution_count": 28,
   "id": "75fcaf20-185c-409e-8acb-483102637d96",
   "metadata": {},
   "outputs": [
    {
     "name": "stderr",
     "output_type": "stream",
     "text": [
      "\u001b[1m\u001b[22m`summarise()` has grouped output by 'OCCURRED_ON_DATE'. You can override using\n",
      "the `.groups` argument.\n"
     ]
    }
   ],
   "source": [
    "crime_df2 <- crime_df1 %>%\n",
    "    group_by (OCCURRED_ON_DATE) %>%\n",
    "    summarise (\n",
    "        n_OFFENSE = n(),\n",
    "        IS_HOLIDAY = IS_HOLIDAY\n",
    "    )"
   ]
  },
  {
   "cell_type": "code",
   "execution_count": 30,
   "id": "a3a3b021-ed85-4037-bc3c-de6d8510aaef",
   "metadata": {},
   "outputs": [
    {
     "data": {
      "text/html": [
       "<table class=\"dataframe\">\n",
       "<caption>A grouped_df: 6 × 3</caption>\n",
       "<thead>\n",
       "\t<tr><th scope=col>OCCURRED_ON_DATE</th><th scope=col>n_OFFENSE</th><th scope=col>IS_HOLIDAY</th></tr>\n",
       "\t<tr><th scope=col>&lt;date&gt;</th><th scope=col>&lt;int&gt;</th><th scope=col>&lt;lgl&gt;</th></tr>\n",
       "</thead>\n",
       "<tbody>\n",
       "\t<tr><td>2021-01-01</td><td>34</td><td>TRUE</td></tr>\n",
       "\t<tr><td>2021-01-01</td><td>34</td><td>TRUE</td></tr>\n",
       "\t<tr><td>2021-01-01</td><td>34</td><td>TRUE</td></tr>\n",
       "\t<tr><td>2021-01-01</td><td>34</td><td>TRUE</td></tr>\n",
       "\t<tr><td>2021-01-01</td><td>34</td><td>TRUE</td></tr>\n",
       "\t<tr><td>2021-01-01</td><td>34</td><td>TRUE</td></tr>\n",
       "</tbody>\n",
       "</table>\n"
      ],
      "text/latex": [
       "A grouped\\_df: 6 × 3\n",
       "\\begin{tabular}{lll}\n",
       " OCCURRED\\_ON\\_DATE & n\\_OFFENSE & IS\\_HOLIDAY\\\\\n",
       " <date> & <int> & <lgl>\\\\\n",
       "\\hline\n",
       "\t 2021-01-01 & 34 & TRUE\\\\\n",
       "\t 2021-01-01 & 34 & TRUE\\\\\n",
       "\t 2021-01-01 & 34 & TRUE\\\\\n",
       "\t 2021-01-01 & 34 & TRUE\\\\\n",
       "\t 2021-01-01 & 34 & TRUE\\\\\n",
       "\t 2021-01-01 & 34 & TRUE\\\\\n",
       "\\end{tabular}\n"
      ],
      "text/markdown": [
       "\n",
       "A grouped_df: 6 × 3\n",
       "\n",
       "| OCCURRED_ON_DATE &lt;date&gt; | n_OFFENSE &lt;int&gt; | IS_HOLIDAY &lt;lgl&gt; |\n",
       "|---|---|---|\n",
       "| 2021-01-01 | 34 | TRUE |\n",
       "| 2021-01-01 | 34 | TRUE |\n",
       "| 2021-01-01 | 34 | TRUE |\n",
       "| 2021-01-01 | 34 | TRUE |\n",
       "| 2021-01-01 | 34 | TRUE |\n",
       "| 2021-01-01 | 34 | TRUE |\n",
       "\n"
      ],
      "text/plain": [
       "  OCCURRED_ON_DATE n_OFFENSE IS_HOLIDAY\n",
       "1 2021-01-01       34        TRUE      \n",
       "2 2021-01-01       34        TRUE      \n",
       "3 2021-01-01       34        TRUE      \n",
       "4 2021-01-01       34        TRUE      \n",
       "5 2021-01-01       34        TRUE      \n",
       "6 2021-01-01       34        TRUE      "
      ]
     },
     "metadata": {},
     "output_type": "display_data"
    }
   ],
   "source": [
    "head(crime_df2)"
   ]
  },
  {
   "cell_type": "code",
   "execution_count": 31,
   "id": "e2e22e41-73b9-4306-8f28-17e826ad6847",
   "metadata": {},
   "outputs": [],
   "source": [
    "# get rid of duplicate rows\n",
    "crime_df3 <- crime_df2 %>%  distinct()"
   ]
  },
  {
   "cell_type": "code",
   "execution_count": 32,
   "id": "129d1c8a-e5df-424b-8e5a-989bdd41b8ae",
   "metadata": {},
   "outputs": [
    {
     "data": {
      "text/html": [
       "<table class=\"dataframe\">\n",
       "<caption>A grouped_df: 6 × 3</caption>\n",
       "<thead>\n",
       "\t<tr><th scope=col>OCCURRED_ON_DATE</th><th scope=col>n_OFFENSE</th><th scope=col>IS_HOLIDAY</th></tr>\n",
       "\t<tr><th scope=col>&lt;date&gt;</th><th scope=col>&lt;int&gt;</th><th scope=col>&lt;lgl&gt;</th></tr>\n",
       "</thead>\n",
       "<tbody>\n",
       "\t<tr><td>2021-01-01</td><td>34</td><td> TRUE</td></tr>\n",
       "\t<tr><td>2021-01-02</td><td>31</td><td>FALSE</td></tr>\n",
       "\t<tr><td>2021-01-03</td><td>19</td><td>FALSE</td></tr>\n",
       "\t<tr><td>2021-01-04</td><td>26</td><td>FALSE</td></tr>\n",
       "\t<tr><td>2021-01-05</td><td>25</td><td>FALSE</td></tr>\n",
       "\t<tr><td>2021-01-06</td><td>24</td><td>FALSE</td></tr>\n",
       "</tbody>\n",
       "</table>\n"
      ],
      "text/latex": [
       "A grouped\\_df: 6 × 3\n",
       "\\begin{tabular}{lll}\n",
       " OCCURRED\\_ON\\_DATE & n\\_OFFENSE & IS\\_HOLIDAY\\\\\n",
       " <date> & <int> & <lgl>\\\\\n",
       "\\hline\n",
       "\t 2021-01-01 & 34 &  TRUE\\\\\n",
       "\t 2021-01-02 & 31 & FALSE\\\\\n",
       "\t 2021-01-03 & 19 & FALSE\\\\\n",
       "\t 2021-01-04 & 26 & FALSE\\\\\n",
       "\t 2021-01-05 & 25 & FALSE\\\\\n",
       "\t 2021-01-06 & 24 & FALSE\\\\\n",
       "\\end{tabular}\n"
      ],
      "text/markdown": [
       "\n",
       "A grouped_df: 6 × 3\n",
       "\n",
       "| OCCURRED_ON_DATE &lt;date&gt; | n_OFFENSE &lt;int&gt; | IS_HOLIDAY &lt;lgl&gt; |\n",
       "|---|---|---|\n",
       "| 2021-01-01 | 34 |  TRUE |\n",
       "| 2021-01-02 | 31 | FALSE |\n",
       "| 2021-01-03 | 19 | FALSE |\n",
       "| 2021-01-04 | 26 | FALSE |\n",
       "| 2021-01-05 | 25 | FALSE |\n",
       "| 2021-01-06 | 24 | FALSE |\n",
       "\n"
      ],
      "text/plain": [
       "  OCCURRED_ON_DATE n_OFFENSE IS_HOLIDAY\n",
       "1 2021-01-01       34         TRUE     \n",
       "2 2021-01-02       31        FALSE     \n",
       "3 2021-01-03       19        FALSE     \n",
       "4 2021-01-04       26        FALSE     \n",
       "5 2021-01-05       25        FALSE     \n",
       "6 2021-01-06       24        FALSE     "
      ]
     },
     "metadata": {},
     "output_type": "display_data"
    }
   ],
   "source": [
    "head(crime_df3)"
   ]
  },
  {
   "cell_type": "code",
   "execution_count": 35,
   "id": "cdb2690d-824e-4c89-9e25-36a5b4377d70",
   "metadata": {},
   "outputs": [
    {
     "data": {
      "text/plain": [
       "\n",
       "\tWelch Two Sample t-test\n",
       "\n",
       "data:  n_OFFENSE by IS_HOLIDAY\n",
       "t = 1.505, df = 11.212, p-value = 0.16\n",
       "alternative hypothesis: true difference in means between group FALSE and group TRUE is not equal to 0\n",
       "95 percent confidence interval:\n",
       " -1.115360  5.974631\n",
       "sample estimates:\n",
       "mean in group FALSE  mean in group TRUE \n",
       "           31.88418            29.45455 \n"
      ]
     },
     "metadata": {},
     "output_type": "display_data"
    }
   ],
   "source": [
    "# t test\n",
    "result <- t.test (n_OFFENSE ~ IS_HOLIDAY, data = crime_df3)\n",
    "result"
   ]
  },
  {
   "cell_type": "code",
   "execution_count": 41,
   "id": "1b2084c4-a086-48ac-a291-4398679a1442",
   "metadata": {},
   "outputs": [
    {
     "data": {
      "text/html": [
       "<table class=\"dataframe\">\n",
       "<caption>A tibble: 1 × 10</caption>\n",
       "<thead>\n",
       "\t<tr><th scope=col>estimate</th><th scope=col>estimate1</th><th scope=col>estimate2</th><th scope=col>statistic</th><th scope=col>p.value</th><th scope=col>parameter</th><th scope=col>conf.low</th><th scope=col>conf.high</th><th scope=col>method</th><th scope=col>alternative</th></tr>\n",
       "\t<tr><th scope=col>&lt;dbl&gt;</th><th scope=col>&lt;dbl&gt;</th><th scope=col>&lt;dbl&gt;</th><th scope=col>&lt;dbl&gt;</th><th scope=col>&lt;dbl&gt;</th><th scope=col>&lt;dbl&gt;</th><th scope=col>&lt;dbl&gt;</th><th scope=col>&lt;dbl&gt;</th><th scope=col>&lt;chr&gt;</th><th scope=col>&lt;chr&gt;</th></tr>\n",
       "</thead>\n",
       "<tbody>\n",
       "\t<tr><td>2.429635</td><td>31.88418</td><td>29.45455</td><td>1.505022</td><td>0.159959</td><td>11.21169</td><td>-1.11536</td><td>5.974631</td><td>Welch Two Sample t-test</td><td>two.sided</td></tr>\n",
       "</tbody>\n",
       "</table>\n"
      ],
      "text/latex": [
       "A tibble: 1 × 10\n",
       "\\begin{tabular}{llllllllll}\n",
       " estimate & estimate1 & estimate2 & statistic & p.value & parameter & conf.low & conf.high & method & alternative\\\\\n",
       " <dbl> & <dbl> & <dbl> & <dbl> & <dbl> & <dbl> & <dbl> & <dbl> & <chr> & <chr>\\\\\n",
       "\\hline\n",
       "\t 2.429635 & 31.88418 & 29.45455 & 1.505022 & 0.159959 & 11.21169 & -1.11536 & 5.974631 & Welch Two Sample t-test & two.sided\\\\\n",
       "\\end{tabular}\n"
      ],
      "text/markdown": [
       "\n",
       "A tibble: 1 × 10\n",
       "\n",
       "| estimate &lt;dbl&gt; | estimate1 &lt;dbl&gt; | estimate2 &lt;dbl&gt; | statistic &lt;dbl&gt; | p.value &lt;dbl&gt; | parameter &lt;dbl&gt; | conf.low &lt;dbl&gt; | conf.high &lt;dbl&gt; | method &lt;chr&gt; | alternative &lt;chr&gt; |\n",
       "|---|---|---|---|---|---|---|---|---|---|\n",
       "| 2.429635 | 31.88418 | 29.45455 | 1.505022 | 0.159959 | 11.21169 | -1.11536 | 5.974631 | Welch Two Sample t-test | two.sided |\n",
       "\n"
      ],
      "text/plain": [
       "  estimate estimate1 estimate2 statistic p.value  parameter conf.low conf.high\n",
       "1 2.429635 31.88418  29.45455  1.505022  0.159959 11.21169  -1.11536 5.974631 \n",
       "  method                  alternative\n",
       "1 Welch Two Sample t-test two.sided  "
      ]
     },
     "metadata": {},
     "output_type": "display_data"
    }
   ],
   "source": [
    "tidy(result)"
   ]
  },
  {
   "cell_type": "code",
   "execution_count": null,
   "id": "befef111-8d29-4715-907e-d6099671ce2d",
   "metadata": {},
   "outputs": [],
   "source": [
    "# P-value = 0.16, cannot reject null hypothesis.\n",
    "# There is no significant difference between holiday and non-holiday periods."
   ]
  }
 ],
 "metadata": {
  "kernelspec": {
   "display_name": "R",
   "language": "R",
   "name": "ir"
  },
  "language_info": {
   "codemirror_mode": "r",
   "file_extension": ".r",
   "mimetype": "text/x-r-source",
   "name": "R",
   "pygments_lexer": "r",
   "version": "4.1.3"
  }
 },
 "nbformat": 4,
 "nbformat_minor": 5
}
